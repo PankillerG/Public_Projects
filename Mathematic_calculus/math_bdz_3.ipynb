{
 "cells": [
  {
   "cell_type": "code",
   "execution_count": 1,
   "metadata": {},
   "outputs": [
    {
     "name": "stdout",
     "output_type": "stream",
     "text": [
      "for n = 10 delta = 0.19753\n",
      "for n = 100 delta = 0.01975\n",
      "for n = 1000 delta = 0.00198\n",
      "for n = 10000 delta = 0.00020\n",
      "for n = 25000 delta = 0.00008\n",
      "for n = 50000 delta = 0.00004\n",
      "for n = 100000 delta = 0.00002\n"
     ]
    }
   ],
   "source": [
    "import math\n",
    "\n",
    "def UpperDSum(n, a, b, func):\n",
    "    summary = 0\n",
    "    for i in range (1, n + 1):\n",
    "        summary += max([func((b - a) * (i - 1) / n), func((b - a) * i / n)])\n",
    "    return (summary * ((b - a) / n))\n",
    "\n",
    "def LowerDSum(n, a, b, func):\n",
    "    summary = 0\n",
    "    for i in range (1, n + 1):\n",
    "        summary += min([func((b - a) * (i - 1) / n), func((b - a) * i / n)])\n",
    "    return (summary * ((b - a) / n))\n",
    "\n",
    "def DeltaDSum(n, a, b, func):\n",
    "    return UpperDSum(n, a, b, func) - LowerDSum(n, a, b, func)\n",
    "\n",
    "def function(x):\n",
    "    return 3 ** (- x ** 2)\n",
    "\n",
    "a = -2\n",
    "b = 0\n",
    "c = 1\n",
    "numbers = [10, 100, 1000, 10000, 25000, 50000, 100000]\n",
    "for i in numbers:\n",
    "    delta = DeltaDSum(i, a, b, function)\n",
    "    print(\"for n =\", i, \"delta =\", \"%.5f\" %delta)"
   ]
  },
  {
   "cell_type": "markdown",
   "metadata": {},
   "source": [
    "Можно заметить, что при n = 250000 разница верхей и нижней суммы Дарбу меньше, чем 10^(-4)\n",
    "Тогда, найдем определенный интеграл для данной функции при n = 250000"
   ]
  },
  {
   "cell_type": "code",
   "execution_count": 3,
   "metadata": {},
   "outputs": [
    {
     "name": "stdout",
     "output_type": "stream",
     "text": [
      "approximate answer is 1.57158531\n"
     ]
    }
   ],
   "source": [
    "ans = UpperDSum(100000, a, b, function) + UpperDSum(100000, b, c, function)\n",
    "print(\"approximate answer is\" , \"%.8f\" %ans)"
   ]
  },
  {
   "cell_type": "code",
   "execution_count": null,
   "metadata": {},
   "outputs": [],
   "source": []
  }
 ],
 "metadata": {
  "kernelspec": {
   "display_name": "Python 3",
   "language": "python",
   "name": "python3"
  },
  "language_info": {
   "codemirror_mode": {
    "name": "ipython",
    "version": 3
   },
   "file_extension": ".py",
   "mimetype": "text/x-python",
   "name": "python",
   "nbconvert_exporter": "python",
   "pygments_lexer": "ipython3",
   "version": "3.7.0"
  }
 },
 "nbformat": 4,
 "nbformat_minor": 2
}
