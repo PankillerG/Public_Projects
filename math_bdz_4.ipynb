{
 "cells": [
  {
   "cell_type": "markdown",
   "metadata": {},
   "source": [
    "**Значение интеграла посчитано на листке (Он равен pi/4)**"
   ]
  },
  {
   "cell_type": "code",
   "execution_count": 90,
   "metadata": {},
   "outputs": [
    {
     "name": "stdout",
     "output_type": "stream",
     "text": [
      "for n = 8(2^3):\n",
      " \tIappr,n = 0.7891717328245772\n",
      " \terr(n) = I(appr,n) - I = 0.00377356942712892\n",
      "\tS(n) = log(err(n) / (log(b - a) - log(n))) = 2.6832848223749504\n",
      "\n",
      "for n = 16(2^4):\n",
      " \tIappr,n = 0.7867379519816303\n",
      " \terr(n) = I(appr,n) - I = 0.0013397885841820445\n",
      "\tS(n) = log(err(n) / (log(b - a) - log(n))) = 2.3859447300648564\n",
      "\n",
      "for n = 32(2^5):\n",
      " \tIappr,n = 0.7858728506705592\n",
      " \terr(n) = I(appr,n) - I = 0.00047468727311095193\n",
      "\tS(n) = log(err(n) / (log(b - a) - log(n))) = 2.2081470019015876\n",
      "\n",
      "for n = 64(2^6):\n",
      " \tIappr,n = 0.7855661680033864\n",
      " \terr(n) = I(appr,n) - I = 0.00016800460593813238\n",
      "\tS(n) = log(err(n) / (log(b - a) - log(n))) = 2.0898685989549763\n",
      "\n",
      "for n = 128(2^7):\n",
      " \tIappr,n = 0.7854575933794612\n",
      " \terr(n) = I(appr,n) - I = 5.942998201291516e-05\n",
      "\tS(n) = log(err(n) / (log(b - a) - log(n))) = 2.005492790019204\n",
      "\n",
      "for n = 256(2^8):\n",
      " \tIappr,n = 0.7854191806205202\n",
      " \terr(n) = I(appr,n) - I = 2.1017223071906344e-05\n",
      "\tS(n) = log(err(n) / (log(b - a) - log(n))) = 1.9422585513143318\n",
      "\n",
      "for n = 512(2^9):\n",
      " \tIappr,n = 0.7854055950895952\n",
      " \terr(n) = I(appr,n) - I = 7.4316921468975394e-06\n",
      "\tS(n) = log(err(n) / (log(b - a) - log(n))) = 1.8930975365652014\n",
      "\n",
      "for n = 1024(2^10):\n",
      " \tIappr,n = 0.7854007910709694\n",
      " \terr(n) = I(appr,n) - I = 2.627673521105045e-06\n",
      "\tS(n) = log(err(n) / (log(b - a) - log(n))) = 1.853778253215027\n",
      "\n",
      "for n = 2048(2^11):\n",
      " \tIappr,n = 0.7853990924510151\n",
      " \terr(n) = I(appr,n) - I = 9.290535668560196e-07\n",
      "\tS(n) = log(err(n) / (log(b - a) - log(n))) = 1.8216122620994384\n",
      "\n",
      "for n = 4096(2^12):\n",
      " \tIappr,n = 0.7853984918729107\n",
      " \terr(n) = I(appr,n) - I = 3.28475462385569e-07\n",
      "\tS(n) = log(err(n) / (log(b - a) - log(n))) = 1.7948092550952441\n",
      "\n",
      "for n = 8192(2^13):\n",
      " \tIappr,n = 0.7853982795320225\n",
      " \terr(n) = I(appr,n) - I = 1.1613457417958273e-07\n",
      "\tS(n) = log(err(n) / (log(b - a) - log(n))) = 1.7721307020276156\n",
      "\n",
      "for n = 16384(2^14):\n",
      " \tIappr,n = 0.7853982044573871\n",
      " \terr(n) = I(appr,n) - I = 4.10599387823396e-08\n",
      "\tS(n) = log(err(n) / (log(b - a) - log(n))) = 1.7526923773295662\n",
      "\n",
      "for n = 32768(2^15):\n",
      " \tIappr,n = 0.7853981779143603\n",
      " \terr(n) = I(appr,n) - I = 1.4516912005824167e-08\n",
      "\tS(n) = log(err(n) / (log(b - a) - log(n))) = 1.7358460105940872\n",
      "\n"
     ]
    }
   ],
   "source": [
    "#Гусев Владислав БПМИ187\n",
    "\n",
    "import math\n",
    "from math import pi\n",
    "from math import log\n",
    "\n",
    "#Вычисление значения нашей функции от x\n",
    "def function(x): \n",
    "    return ((1 - x ** 2) ** (1 / 2))\n",
    "\n",
    "#Подсчет интеграла путем формулы прямоугольников\n",
    "def RectangleRule(x, y, n):\n",
    "    answer = 0;\n",
    "    x_k = x;\n",
    "    for i in range (n):\n",
    "        temp = (function((2 * x_k + (y - x) / n) / 2) * ((y - x) / n))\n",
    "        answer += temp\n",
    "        x_k += ((y - x) / n)\n",
    "    return answer;\n",
    "    \n",
    "x = 0\n",
    "y = 1\n",
    "I = pi/4 #Значение нашего интеграла, который посчитан на листке\n",
    "\n",
    "#Подсчет и вывод результатов относительно n\n",
    "for i in range (3, 16):\n",
    "    Iappr_n = RectangleRule(x, y, 2 ** i)\n",
    "    err_n = Iappr_n - I;\n",
    "    S_n = log(err_n) / (log(y - x) - log(2 ** i))\n",
    "    print(\"for n = \",\n",
    "          2 ** i,\n",
    "          \"(2^\", i,\"):\\n \\tIappr,n = \",\n",
    "          Iappr_n,\n",
    "          \"\\n \\terr(n) = I(appr,n) - I = \",\n",
    "          err_n,\n",
    "          \"\\n\\tS(n) = log(err(n) / (log(b - a) - log(n))) = \",\n",
    "          S_n,\n",
    "          sep=\"\")\n",
    "    print()\n"
   ]
  },
  {
   "cell_type": "markdown",
   "metadata": {},
   "source": [
    "**Из этого вывода легко увидеть нужные значения для таблицы**"
   ]
  },
  {
   "cell_type": "markdown",
   "metadata": {},
   "source": [
    "Как мы видим, что при увеличении n, уменьшается ошибка(err(n)) и S(n) (так как основание нашего логарифма уменьшается)"
   ]
  },
  {
   "cell_type": "code",
   "execution_count": null,
   "metadata": {},
   "outputs": [],
   "source": []
  }
 ],
 "metadata": {
  "kernelspec": {
   "display_name": "Python 3",
   "language": "python",
   "name": "python3"
  },
  "language_info": {
   "codemirror_mode": {
    "name": "ipython",
    "version": 3
   },
   "file_extension": ".py",
   "mimetype": "text/x-python",
   "name": "python",
   "nbconvert_exporter": "python",
   "pygments_lexer": "ipython3",
   "version": "3.7.0"
  }
 },
 "nbformat": 4,
 "nbformat_minor": 2
}
